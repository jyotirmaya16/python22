{
  "nbformat": 4,
  "nbformat_minor": 0,
  "metadata": {
    "colab": {
      "provenance": []
    },
    "kernelspec": {
      "name": "python3",
      "display_name": "Python 3"
    },
    "language_info": {
      "name": "python"
    }
  },
  "cells": [
    {
      "cell_type": "code",
      "execution_count": 1,
      "metadata": {
        "colab": {
          "base_uri": "https://localhost:8080/"
        },
        "id": "o02UCNipQ7kH",
        "outputId": "bbacc08f-5389-4cd1-8945-7121b80d8fb6"
      },
      "outputs": [
        {
          "output_type": "stream",
          "name": "stdout",
          "text": [
            "200\n"
          ]
        }
      ],
      "source": [
        "a=10\n",
        "b=20\n",
        "print(a*b)"
      ]
    },
    {
      "cell_type": "code",
      "source": [
        "10*50"
      ],
      "metadata": {
        "colab": {
          "base_uri": "https://localhost:8080/"
        },
        "id": "XTbL77CVSYAm",
        "outputId": "3dd45352-aa50-4115-a771-74ee79ca0afb"
      },
      "execution_count": 2,
      "outputs": [
        {
          "output_type": "execute_result",
          "data": {
            "text/plain": [
              "500"
            ]
          },
          "metadata": {},
          "execution_count": 2
        }
      ]
    },
    {
      "cell_type": "code",
      "source": [
        "50/10"
      ],
      "metadata": {
        "colab": {
          "base_uri": "https://localhost:8080/"
        },
        "id": "DNy0DoyEShTi",
        "outputId": "c670c468-4845-4719-fd02-4c072673c31f"
      },
      "execution_count": 3,
      "outputs": [
        {
          "output_type": "execute_result",
          "data": {
            "text/plain": [
              "5.0"
            ]
          },
          "metadata": {},
          "execution_count": 3
        }
      ]
    },
    {
      "cell_type": "code",
      "source": [
        "50//10"
      ],
      "metadata": {
        "colab": {
          "base_uri": "https://localhost:8080/"
        },
        "id": "VhIVrMk2SjS3",
        "outputId": "203ef320-f751-44c9-e6aa-f314a5f3700b"
      },
      "execution_count": 4,
      "outputs": [
        {
          "output_type": "execute_result",
          "data": {
            "text/plain": [
              "5"
            ]
          },
          "metadata": {},
          "execution_count": 4
        }
      ]
    },
    {
      "cell_type": "code",
      "source": [
        "a=20\n",
        "b=10\n",
        "if a>b:\n",
        "  print(\"a is greater\")\n",
        "if b>a:\n",
        "  print(\"b is greater\")"
      ],
      "metadata": {
        "colab": {
          "base_uri": "https://localhost:8080/"
        },
        "id": "NyLdxO04SlEq",
        "outputId": "19d62e96-5ccc-4499-b981-420b2aa73ff2"
      },
      "execution_count": 5,
      "outputs": [
        {
          "output_type": "stream",
          "name": "stdout",
          "text": [
            "a is greater\n"
          ]
        }
      ]
    },
    {
      "cell_type": "code",
      "source": [
        "x=10\n",
        "y=10\n",
        "x==y"
      ],
      "metadata": {
        "colab": {
          "base_uri": "https://localhost:8080/"
        },
        "id": "Zo5OP1hYS5hv",
        "outputId": "2891d9fa-8a93-452d-a8cc-0e3c73f528a5"
      },
      "execution_count": 6,
      "outputs": [
        {
          "output_type": "execute_result",
          "data": {
            "text/plain": [
              "True"
            ]
          },
          "metadata": {},
          "execution_count": 6
        }
      ]
    },
    {
      "cell_type": "code",
      "source": [
        "x!=y"
      ],
      "metadata": {
        "colab": {
          "base_uri": "https://localhost:8080/"
        },
        "id": "4dp67Bx0TEIF",
        "outputId": "8db2a1ba-6a24-45d9-e706-65b140cae3f5"
      },
      "execution_count": 7,
      "outputs": [
        {
          "output_type": "execute_result",
          "data": {
            "text/plain": [
              "False"
            ]
          },
          "metadata": {},
          "execution_count": 7
        }
      ]
    },
    {
      "cell_type": "code",
      "source": [
        "print(\"good\"*2)"
      ],
      "metadata": {
        "colab": {
          "base_uri": "https://localhost:8080/"
        },
        "id": "lO5zhuqqTHFr",
        "outputId": "4bbc57d7-15a8-4166-c5af-865d1cde74b6"
      },
      "execution_count": 8,
      "outputs": [
        {
          "output_type": "stream",
          "name": "stdout",
          "text": [
            "goodgood\n"
          ]
        }
      ]
    },
    {
      "cell_type": "code",
      "source": [
        "a=10\n",
        "if a>8:\n",
        "  print(\"ok\")\n",
        "print(\"not an issue\")"
      ],
      "metadata": {
        "colab": {
          "base_uri": "https://localhost:8080/"
        },
        "id": "h7bFagGATSRn",
        "outputId": "334c1621-7c10-48fe-aa7a-60c499dd49c6"
      },
      "execution_count": 9,
      "outputs": [
        {
          "output_type": "stream",
          "name": "stdout",
          "text": [
            "ok\n",
            "not an issue\n"
          ]
        }
      ]
    },
    {
      "cell_type": "code",
      "source": [
        "if a<8:\n",
        "  print(\"if\")\n",
        "else:\n",
        "  (\"elif\")"
      ],
      "metadata": {
        "id": "xTxdb3QxTsbK"
      },
      "execution_count": 13,
      "outputs": []
    },
    {
      "cell_type": "code",
      "source": [
        "a=10\n",
        "if a<8:\n",
        "  print(\"not\")\n",
        "else:\n",
        "  print(\"else\")"
      ],
      "metadata": {
        "colab": {
          "base_uri": "https://localhost:8080/"
        },
        "id": "amaCaij-T3QS",
        "outputId": "2712a067-026d-4c30-b1c9-1d85f0a7eb7b"
      },
      "execution_count": 14,
      "outputs": [
        {
          "output_type": "stream",
          "name": "stdout",
          "text": [
            "else\n"
          ]
        }
      ]
    },
    {
      "cell_type": "code",
      "source": [
        "a=100\n",
        "b=200\n",
        "#find which is bigger and which is smaller\n",
        "if a>b:\n",
        "  print(\"a is bigger\")\n",
        "else:\n",
        "  print(\"b is bigger\")"
      ],
      "metadata": {
        "colab": {
          "base_uri": "https://localhost:8080/"
        },
        "id": "HFVjtbeKUdII",
        "outputId": "f219dd2b-2623-446f-aa90-7172f5c54e3d"
      },
      "execution_count": 15,
      "outputs": [
        {
          "output_type": "stream",
          "name": "stdout",
          "text": [
            "b is bigger\n"
          ]
        }
      ]
    },
    {
      "cell_type": "code",
      "source": [
        "a=10\n",
        "b=20\n",
        "c=30\n",
        "if a>b and a>c:\n",
        "  print(a)\n",
        "elif b>c and b>a:\n",
        "  print(b)\n",
        "else :\n",
        "  print(c)"
      ],
      "metadata": {
        "colab": {
          "base_uri": "https://localhost:8080/"
        },
        "id": "g5UIh6E3U0bI",
        "outputId": "8f7bfad3-1e0c-427b-e24e-1d3a1ba1a4e3"
      },
      "execution_count": 20,
      "outputs": [
        {
          "output_type": "stream",
          "name": "stdout",
          "text": [
            "30\n"
          ]
        }
      ]
    },
    {
      "cell_type": "code",
      "source": [
        "a=29\n",
        "#a is even or odd\n",
        "if a%2==0:\n",
        "  print(\"even\")\n",
        "else :\n",
        "  print(\"odd\")"
      ],
      "metadata": {
        "colab": {
          "base_uri": "https://localhost:8080/"
        },
        "id": "LwT1dym_VPb7",
        "outputId": "e45034e1-9da2-4c2f-f12a-60b9db512d46"
      },
      "execution_count": 22,
      "outputs": [
        {
          "output_type": "stream",
          "name": "stdout",
          "text": [
            "odd\n"
          ]
        }
      ]
    },
    {
      "cell_type": "code",
      "source": [
        "k=10\n",
        "if k>5:\n",
        "  print (\"1st if\")\n",
        "if k>8:\n",
        "  print (\"2nd if\")\n",
        "elif k>6:\n",
        "  print (\"elif\")#first 2 asia"
      ],
      "metadata": {
        "colab": {
          "base_uri": "https://localhost:8080/"
        },
        "id": "bkg_T3RDa42E",
        "outputId": "ccec062c-f94a-4c56-a197-244cd790c260"
      },
      "execution_count": 23,
      "outputs": [
        {
          "output_type": "stream",
          "name": "stdout",
          "text": [
            "1st if\n",
            "2nd if\n"
          ]
        }
      ]
    },
    {
      "cell_type": "code",
      "source": [
        "h=20\n",
        "g=10\n",
        "if h>g:\n",
        "  print (\"1st if\")\n",
        "elif h>g:\n",
        "  print (\"elif\")\n",
        "if h>g:\n",
        "  print(\"2nd if\")#1st and last hoa"
      ],
      "metadata": {
        "colab": {
          "base_uri": "https://localhost:8080/"
        },
        "id": "IvaWmqa1ba5X",
        "outputId": "0bb21e7e-1949-4146-b38f-f9f4f902a158"
      },
      "execution_count": 24,
      "outputs": [
        {
          "output_type": "stream",
          "name": "stdout",
          "text": [
            "1st if\n",
            "2nd if\n"
          ]
        }
      ]
    },
    {
      "cell_type": "code",
      "source": [
        "h=20\n",
        "g=10\n",
        "if h>g:\n",
        "  print (\"1st if\")\n",
        "elif h>g:\n",
        "  print (\"elif\")\n",
        "if h>g:\n",
        "  print(\"2nd if\")#1st and last\n"
      ],
      "metadata": {
        "colab": {
          "base_uri": "https://localhost:8080/"
        },
        "id": "3JpSQxx6buOu",
        "outputId": "8058eb74-f12a-4185-ef95-4f73df2047c7"
      },
      "execution_count": 25,
      "outputs": [
        {
          "output_type": "stream",
          "name": "stdout",
          "text": [
            "1st if\n",
            "2nd if\n"
          ]
        }
      ]
    },
    {
      "cell_type": "code",
      "source": [
        "a=int(input(\"1st no:\"))\n",
        "b=int(input(\"2nd no:\"))\n",
        "c=a+b\n",
        "print(c)\n"
      ],
      "metadata": {
        "colab": {
          "base_uri": "https://localhost:8080/"
        },
        "id": "zT_8kmV-cDy1",
        "outputId": "2c6b45ac-319d-4cf7-e23c-9c7fe907728b"
      },
      "execution_count": 28,
      "outputs": [
        {
          "output_type": "stream",
          "name": "stdout",
          "text": [
            "1st no:20\n",
            "2nd no:10\n",
            "30\n"
          ]
        }
      ]
    },
    {
      "cell_type": "code",
      "source": [
        "a=int(input(\"1st.no:\"))\n",
        "b=int(input(\"2nd.no:\"))\n",
        "c=input(\"operater\")\n",
        "if c==\"+\":\n",
        "  print(a+b)\n",
        "elif c==\"-\":\n",
        "  print(a-b)\n",
        "elif c==\"*\":\n",
        "  print(a*b)\n",
        "elif c==\"/\":\n",
        "  print(a/b)\n",
        "else:\n",
        "  print(\"try only +-*/\")\n",
        "\n",
        "\n"
      ],
      "metadata": {
        "colab": {
          "base_uri": "https://localhost:8080/"
        },
        "id": "Z8PyyJ2kchqF",
        "outputId": "ce9e6e01-4660-45c6-ec76-730cfe2d8127"
      },
      "execution_count": 30,
      "outputs": [
        {
          "output_type": "stream",
          "name": "stdout",
          "text": [
            "1st.no:12\n",
            "2nd.no:12\n",
            "operater*\n",
            "144\n"
          ]
        }
      ]
    },
    {
      "cell_type": "code",
      "source": [
        "#input intiser from user , check complty divisble by 2,4 . but not for 6. if yes \"dividible\" other wisee not divisble#\n",
        "a=int(input(\"put any numer:\"))\n",
        "if a%2==0 and a%4==0 and a%6!=0:\n",
        "  print(\"dividible\")\n",
        "else:\n",
        "  print(\"not\")"
      ],
      "metadata": {
        "colab": {
          "base_uri": "https://localhost:8080/"
        },
        "id": "B-UxLFAeeF0h",
        "outputId": "fc9484b7-3c60-411e-c364-4c4c13c05079"
      },
      "execution_count": 34,
      "outputs": [
        {
          "output_type": "stream",
          "name": "stdout",
          "text": [
            "put any numer:12\n",
            "not\n"
          ]
        }
      ]
    },
    {
      "cell_type": "code",
      "source": [
        "a=int(input(\"1st\"))\n",
        "b=int(input(\"2nd\"))\n",
        "c=int(input(\"3rd\"))\n",
        "if a+b>c and b+c>a and c+a>b:\n",
        "  print(\"traingel\")\n",
        "else:\n",
        "  print(\"not\")"
      ],
      "metadata": {
        "colab": {
          "base_uri": "https://localhost:8080/"
        },
        "id": "Ok5bmijHf6iQ",
        "outputId": "c32ef43d-b812-4bb9-8449-f349437d4dcc"
      },
      "execution_count": 37,
      "outputs": [
        {
          "output_type": "stream",
          "name": "stdout",
          "text": [
            "1st7\n",
            "2nd7\n",
            "3rd7\n",
            "traingel\n"
          ]
        }
      ]
    },
    {
      "cell_type": "code",
      "source": [
        "a=10\n",
        "b=20\n",
        "c=30\n",
        "d=40\n",
        "#swap\n",
        "x=a\n",
        "a=b\n",
        "b=c\n",
        "c=d\n",
        "d=x\n",
        "\n",
        "print (a,b,c,d)\n"
      ],
      "metadata": {
        "colab": {
          "base_uri": "https://localhost:8080/"
        },
        "id": "x5fYlPxZg6I8",
        "outputId": "8749660b-906b-4830-c8f8-fb73b9e2125c"
      },
      "execution_count": 49,
      "outputs": [
        {
          "output_type": "stream",
          "name": "stdout",
          "text": [
            "20 30 40 10\n"
          ]
        }
      ]
    },
    {
      "cell_type": "code",
      "source": [
        "for x in range (10):\n",
        "  print(\"ok\")"
      ],
      "metadata": {
        "colab": {
          "base_uri": "https://localhost:8080/"
        },
        "id": "_TlezPJdhpOL",
        "outputId": "a99e665c-b0ee-47c4-8781-9596a780605d"
      },
      "execution_count": 52,
      "outputs": [
        {
          "output_type": "stream",
          "name": "stdout",
          "text": [
            "ok\n",
            "ok\n",
            "ok\n",
            "ok\n",
            "ok\n",
            "ok\n",
            "ok\n",
            "ok\n",
            "ok\n",
            "ok\n"
          ]
        }
      ]
    },
    {
      "cell_type": "code",
      "source": [
        "for x in range (3):\n",
        "  print(\"o\")\n",
        "  print(\"k\")\n",
        "  print(\"l\")"
      ],
      "metadata": {
        "colab": {
          "base_uri": "https://localhost:8080/"
        },
        "id": "mB0otddel4Rk",
        "outputId": "0d8e63b5-91dd-481d-fd12-51c27c4f772a"
      },
      "execution_count": 53,
      "outputs": [
        {
          "output_type": "stream",
          "name": "stdout",
          "text": [
            "o\n",
            "k\n",
            "l\n",
            "o\n",
            "k\n",
            "l\n",
            "o\n",
            "k\n",
            "l\n"
          ]
        }
      ]
    },
    {
      "cell_type": "code",
      "source": [
        "for n in range (5,50,5):\n",
        "  print(n)"
      ],
      "metadata": {
        "colab": {
          "base_uri": "https://localhost:8080/"
        },
        "id": "afgeroNmmPRM",
        "outputId": "bc3bffd2-59dc-45cd-f8b6-8b1666252268"
      },
      "execution_count": 54,
      "outputs": [
        {
          "output_type": "stream",
          "name": "stdout",
          "text": [
            "5\n",
            "10\n",
            "15\n",
            "20\n",
            "25\n",
            "30\n",
            "35\n",
            "40\n",
            "45\n"
          ]
        }
      ]
    },
    {
      "cell_type": "code",
      "source": [
        "for n in range (2,21,2):\n",
        "  print(n)"
      ],
      "metadata": {
        "colab": {
          "base_uri": "https://localhost:8080/"
        },
        "id": "rwm2SwBcma4t",
        "outputId": "0934abb0-b26c-4bed-dfa2-131633de9fff"
      },
      "execution_count": 56,
      "outputs": [
        {
          "output_type": "stream",
          "name": "stdout",
          "text": [
            "2\n",
            "4\n",
            "6\n",
            "8\n",
            "10\n",
            "12\n",
            "14\n",
            "16\n",
            "18\n",
            "20\n"
          ]
        }
      ]
    },
    {
      "cell_type": "code",
      "source": [
        " #50 to 70 all even number including 50 and 70#\n",
        " for n in range (50,71,2):\n",
        "  print(n)"
      ],
      "metadata": {
        "colab": {
          "base_uri": "https://localhost:8080/"
        },
        "id": "nr0sEyQcmmrl",
        "outputId": "6d3135bd-721d-442f-f79e-f92e43d3a7bc"
      },
      "execution_count": 57,
      "outputs": [
        {
          "output_type": "stream",
          "name": "stdout",
          "text": [
            "50\n",
            "52\n",
            "54\n",
            "56\n",
            "58\n",
            "60\n",
            "62\n",
            "64\n",
            "66\n",
            "68\n",
            "70\n"
          ]
        }
      ]
    },
    {
      "cell_type": "code",
      "source": [
        "for n in range (51,70,2):\n",
        "  print(n)"
      ],
      "metadata": {
        "colab": {
          "base_uri": "https://localhost:8080/"
        },
        "id": "D7PY7HK_nA_t",
        "outputId": "4c28f3c0-d6a8-4ddb-f452-5a5327bd3c74"
      },
      "execution_count": 58,
      "outputs": [
        {
          "output_type": "stream",
          "name": "stdout",
          "text": [
            "51\n",
            "53\n",
            "55\n",
            "57\n",
            "59\n",
            "61\n",
            "63\n",
            "65\n",
            "67\n",
            "69\n"
          ]
        }
      ]
    },
    {
      "cell_type": "code",
      "source": [
        "for n in range (1,11):\n",
        "  print(2*n)"
      ],
      "metadata": {
        "colab": {
          "base_uri": "https://localhost:8080/"
        },
        "id": "z-FykuMJnZee",
        "outputId": "a670b5c8-e25a-4b5c-8d51-4230fa9e8922"
      },
      "execution_count": 60,
      "outputs": [
        {
          "output_type": "stream",
          "name": "stdout",
          "text": [
            "2\n",
            "4\n",
            "6\n",
            "8\n",
            "10\n",
            "12\n",
            "14\n",
            "16\n",
            "18\n",
            "20\n"
          ]
        }
      ]
    },
    {
      "cell_type": "code",
      "source": [
        "for n in range (1,11):\n",
        "#2*1=2\n",
        "    print(\"2*\",n,\"=\",2*n)"
      ],
      "metadata": {
        "colab": {
          "base_uri": "https://localhost:8080/"
        },
        "id": "pBrWB49Xnhw9",
        "outputId": "14316278-2c8c-4f90-936e-bdb513ef1fcc"
      },
      "execution_count": 65,
      "outputs": [
        {
          "output_type": "stream",
          "name": "stdout",
          "text": [
            "2* 1 = 2\n",
            "2* 2 = 4\n",
            "2* 3 = 6\n",
            "2* 4 = 8\n",
            "2* 5 = 10\n",
            "2* 6 = 12\n",
            "2* 7 = 14\n",
            "2* 8 = 16\n",
            "2* 9 = 18\n",
            "2* 10 = 20\n"
          ]
        }
      ]
    },
    {
      "cell_type": "code",
      "source": [
        "a=int(input(\"any number:\"))\n",
        "for n in range (1,11):\n",
        "  print(a,\"*\",n,\"=\",a*n)"
      ],
      "metadata": {
        "colab": {
          "base_uri": "https://localhost:8080/"
        },
        "id": "NrZqZTGuoWw6",
        "outputId": "2d59e29a-6aab-4a59-a838-5697f5b92886"
      },
      "execution_count": 67,
      "outputs": [
        {
          "output_type": "stream",
          "name": "stdout",
          "text": [
            "any number:4\n",
            "4 * 1 = 4\n",
            "4 * 2 = 8\n",
            "4 * 3 = 12\n",
            "4 * 4 = 16\n",
            "4 * 5 = 20\n",
            "4 * 6 = 24\n",
            "4 * 7 = 28\n",
            "4 * 8 = 32\n",
            "4 * 9 = 36\n",
            "4 * 10 = 40\n"
          ]
        }
      ]
    },
    {
      "cell_type": "code",
      "source": [
        "a=int(input(\"your number\"))\n",
        "for n in range (1,11):\n",
        "  print(a,\"*\",n,\"=\",a*n)"
      ],
      "metadata": {
        "colab": {
          "base_uri": "https://localhost:8080/"
        },
        "id": "QZp7DxEFpROu",
        "outputId": "33844db1-b0d1-4893-c752-952b3ec2562f"
      },
      "execution_count": 70,
      "outputs": [
        {
          "output_type": "stream",
          "name": "stdout",
          "text": [
            "your number25\n",
            "25 * 1 = 25\n",
            "25 * 2 = 50\n",
            "25 * 3 = 75\n",
            "25 * 4 = 100\n",
            "25 * 5 = 125\n",
            "25 * 6 = 150\n",
            "25 * 7 = 175\n",
            "25 * 8 = 200\n",
            "25 * 9 = 225\n",
            "25 * 10 = 250\n"
          ]
        }
      ]
    },
    {
      "cell_type": "code",
      "source": [],
      "metadata": {
        "id": "n5kazjMqpyfC"
      },
      "execution_count": null,
      "outputs": []
    }
  ]
}